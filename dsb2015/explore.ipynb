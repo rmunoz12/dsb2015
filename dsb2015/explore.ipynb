{
 "cells": [
  {
   "cell_type": "code",
   "execution_count": 1,
   "metadata": {
    "collapsed": true
   },
   "outputs": [],
   "source": [
    "import os\n",
    "\n",
    "TRN_PATH = '../data/train'\n",
    "VLD_PATH = '../data/validate'\n",
    "OUT_PATH = '../output'"
   ]
  },
  {
   "cell_type": "markdown",
   "metadata": {},
   "source": [
    "### Check SAX directories "
   ]
  },
  {
   "cell_type": "markdown",
   "metadata": {},
   "source": [
    "List SAX Directories without exactly 30 dcm files, numbered 1 to 30."
   ]
  },
  {
   "cell_type": "code",
   "execution_count": 2,
   "metadata": {
    "collapsed": true
   },
   "outputs": [],
   "source": [
    "def find_non_standard_sax(path):\n",
    "    for root, _, files in os.walk(path):\n",
    "        if len(files) == 0 or root.find(\"sax\") == -1:\n",
    "            continue\n",
    "        files = [x for x in files if os.path.splitext(x)[1] == '.dcm']\n",
    "        if len(files) == 0:\n",
    "            continue\n",
    "        prefix = files[0].rsplit('-', 1)[0]\n",
    "        fileset = set(files)\n",
    "        expected = [\"%s-%04d.dcm\" % (prefix, i) for i in range(1, 31)]\n",
    "        if not all(x in fileset for x in expected):\n",
    "            n = len(fileset)\n",
    "            print(\"n: {}\\t {}\".format(n, root))"
   ]
  },
  {
   "cell_type": "code",
   "execution_count": 3,
   "metadata": {
    "collapsed": false,
    "scrolled": true
   },
   "outputs": [
    {
     "name": "stdout",
     "output_type": "stream",
     "text": [
      "n: 270\t ../data/train/123/study/sax_10\n",
      "n: 270\t ../data/train/123/study/sax_20\n",
      "n: 60\t ../data/train/234/study/sax_19\n",
      "n: 330\t ../data/train/234/study/sax_20\n",
      "n: 60\t ../data/train/279/study/sax_10\n",
      "n: 60\t ../data/train/279/study/sax_11\n",
      "n: 60\t ../data/train/279/study/sax_12\n",
      "n: 60\t ../data/train/279/study/sax_13\n",
      "n: 60\t ../data/train/279/study/sax_14\n",
      "n: 60\t ../data/train/279/study/sax_15\n",
      "n: 60\t ../data/train/279/study/sax_16\n",
      "n: 60\t ../data/train/279/study/sax_17\n",
      "n: 60\t ../data/train/279/study/sax_18\n",
      "n: 60\t ../data/train/279/study/sax_19\n",
      "n: 60\t ../data/train/279/study/sax_9\n",
      "n: 330\t ../data/train/334/study/sax_29\n",
      "n: 25\t ../data/train/416/study/sax_10\n",
      "n: 25\t ../data/train/416/study/sax_11\n",
      "n: 25\t ../data/train/416/study/sax_12\n",
      "n: 25\t ../data/train/416/study/sax_13\n",
      "n: 25\t ../data/train/416/study/sax_14\n",
      "n: 25\t ../data/train/416/study/sax_15\n",
      "n: 25\t ../data/train/416/study/sax_16\n",
      "n: 25\t ../data/train/416/study/sax_17\n",
      "n: 25\t ../data/train/416/study/sax_18\n",
      "n: 23\t ../data/train/416/study/sax_7\n",
      "n: 22\t ../data/train/416/study/sax_9\n",
      "n: 60\t ../data/train/463/study/sax_10\n",
      "n: 60\t ../data/train/463/study/sax_11\n",
      "n: 60\t ../data/train/463/study/sax_12\n",
      "n: 60\t ../data/train/463/study/sax_13\n",
      "n: 60\t ../data/train/463/study/sax_14\n",
      "n: 60\t ../data/train/463/study/sax_15\n",
      "n: 60\t ../data/train/463/study/sax_7\n",
      "n: 60\t ../data/train/463/study/sax_72\n",
      "n: 60\t ../data/train/463/study/sax_8\n",
      "n: 60\t ../data/train/463/study/sax_9\n",
      "n: 330\t ../data/train/499/study/sax_18\n"
     ]
    }
   ],
   "source": [
    "find_non_standard_sax(TRN_PATH)"
   ]
  },
  {
   "cell_type": "code",
   "execution_count": 4,
   "metadata": {
    "collapsed": false
   },
   "outputs": [
    {
     "name": "stdout",
     "output_type": "stream",
     "text": [
      "n: 330\t ../data/validate/516/study/sax_104\n",
      "n: 60\t ../data/validate/590/study/sax_10\n",
      "n: 60\t ../data/validate/590/study/sax_11\n",
      "n: 60\t ../data/validate/590/study/sax_12\n",
      "n: 60\t ../data/validate/590/study/sax_13\n",
      "n: 60\t ../data/validate/590/study/sax_14\n",
      "n: 60\t ../data/validate/590/study/sax_15\n",
      "n: 60\t ../data/validate/590/study/sax_16\n",
      "n: 60\t ../data/validate/590/study/sax_17\n",
      "n: 60\t ../data/validate/590/study/sax_18\n",
      "n: 60\t ../data/validate/590/study/sax_19\n",
      "n: 60\t ../data/validate/590/study/sax_20\n",
      "n: 270\t ../data/validate/597/study/sax_7\n",
      "n: 330\t ../data/validate/619/study/sax_21\n",
      "n: 60\t ../data/validate/623/study/sax_56\n",
      "n: 60\t ../data/validate/623/study/sax_57\n"
     ]
    }
   ],
   "source": [
    "find_non_standard_sax(VLD_PATH)"
   ]
  },
  {
   "cell_type": "code",
   "execution_count": null,
   "metadata": {
    "collapsed": true
   },
   "outputs": [],
   "source": []
  }
 ],
 "metadata": {
  "kernelspec": {
   "display_name": "Python 3",
   "language": "python",
   "name": "python3"
  },
  "language_info": {
   "codemirror_mode": {
    "name": "ipython",
    "version": 3
   },
   "file_extension": ".py",
   "mimetype": "text/x-python",
   "name": "python",
   "nbconvert_exporter": "python",
   "pygments_lexer": "ipython3",
   "version": "3.5.1"
  }
 },
 "nbformat": 4,
 "nbformat_minor": 0
}
